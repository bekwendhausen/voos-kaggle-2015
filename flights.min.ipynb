{
 "cells": [
  {
   "cell_type": "code",
   "execution_count": 1,
   "id": "83a1a97e",
   "metadata": {},
   "outputs": [],
   "source": [
    "# importando as primeiras bibliotecas\n",
    "\n",
    "import datetime\n",
    "import numpy as np\n",
    "import pandas as pd\n",
    "import matplotlib.pyplot as plt\n",
    "import seaborn as sns\n",
    "%matplotlib inline"
   ]
  },
  {
   "cell_type": "code",
   "execution_count": 2,
   "id": "e3cea6eb",
   "metadata": {},
   "outputs": [],
   "source": [
    "# lendo os dados do arquivo csv pertinente aos vôos\n",
    "\n",
    "df = pd.read_csv('flights.csv', low_memory=False)"
   ]
  },
  {
   "cell_type": "code",
   "execution_count": null,
   "id": "f477fa87",
   "metadata": {},
   "outputs": [],
   "source": [
    "# checando informações básicas dos tipos de dados presentes em cada coluna\n",
    "\n",
    "df.info()"
   ]
  },
  {
   "cell_type": "markdown",
   "id": "b5d9edfe",
   "metadata": {},
   "source": [
    "Há 31 colunas, 26 com valores numéricos e 5 com textos (strings).\n",
    "\n",
    "Há 5819079 entradas."
   ]
  },
  {
   "cell_type": "code",
   "execution_count": 3,
   "id": "8f29ad7a",
   "metadata": {},
   "outputs": [],
   "source": [
    "# Selecionar 10% do dataset para facilitar o tempo de processamento das visualizações\n",
    "\n",
    "df_small = df.sample(frac=0.1, random_state=101)"
   ]
  },
  {
   "cell_type": "code",
   "execution_count": null,
   "id": "67e8baab",
   "metadata": {},
   "outputs": [],
   "source": [
    "df_small.head(5)"
   ]
  },
  {
   "cell_type": "code",
   "execution_count": null,
   "id": "06075cd8",
   "metadata": {},
   "outputs": [],
   "source": [
    "# Checar quantidade de valores únicos\n",
    "\n",
    "df_small.nunique()"
   ]
  },
  {
   "cell_type": "code",
   "execution_count": 4,
   "id": "3342e049",
   "metadata": {},
   "outputs": [],
   "source": [
    "# Retirar os valores não numéricos\n",
    "\n",
    "df_small_numeric = df_small.drop(['AIRLINE', 'TAIL_NUMBER', 'ORIGIN_AIRPORT', 'DESTINATION_AIRPORT', 'CANCELLATION_REASON'],axis=1)"
   ]
  },
  {
   "cell_type": "code",
   "execution_count": null,
   "id": "9f971c8b",
   "metadata": {},
   "outputs": [],
   "source": [
    "# Observar estatísticas básicas dos dados numéricos\n",
    "\n",
    "df_small_numeric.describe().transpose()"
   ]
  },
  {
   "cell_type": "code",
   "execution_count": null,
   "id": "898d7e27",
   "metadata": {},
   "outputs": [],
   "source": [
    "df_small_numeric.isnull().sum()/df_small_numeric.shape[0]*100"
   ]
  },
  {
   "cell_type": "code",
   "execution_count": null,
   "id": "a9106ff7",
   "metadata": {},
   "outputs": [],
   "source": [
    "plt.figure(figsize=(12,6))\n",
    "plt.xticks(rotation=0)\n",
    "sns.heatmap(df_small_numeric.isnull(), cbar=False, yticklabels=False, cmap='spring')"
   ]
  },
  {
   "cell_type": "markdown",
   "id": "30c71153",
   "metadata": {},
   "source": [
    "Com mais de 80% de dados faltantes para as variáveis AIR_SYSTEM_DELAY, SECURITY_DELAY, AIRLINE_DELAY, LATE_AIRCRAFT_DELAY, WEATHER_DELAY, opta-se por retirá-las nesse momento."
   ]
  },
  {
   "cell_type": "code",
   "execution_count": 5,
   "id": "48b6f81b",
   "metadata": {},
   "outputs": [],
   "source": [
    "df_small_numeric = df_small_numeric.drop(['AIR_SYSTEM_DELAY', 'SECURITY_DELAY', 'AIRLINE_DELAY', 'LATE_AIRCRAFT_DELAY', 'WEATHER_DELAY'], axis=1)"
   ]
  },
  {
   "cell_type": "markdown",
   "id": "7cc39cfb",
   "metadata": {},
   "source": [
    "A porcentagem de dados faltantes nas outras variáveis é bem pequena, por isso opta-se por retirar os casos nulos restantes."
   ]
  },
  {
   "cell_type": "code",
   "execution_count": 6,
   "id": "7d0ed673",
   "metadata": {},
   "outputs": [],
   "source": [
    "# Desse modo, não há mais dados faltantes no dataset a ser analisado\n",
    "\n",
    "df_small_numeric = df_small_numeric.dropna()\n",
    "# df_small_numeric.isnull().sum()/df_small_numeric.shape[0]*100"
   ]
  },
  {
   "cell_type": "code",
   "execution_count": null,
   "id": "6f3edc8f",
   "metadata": {},
   "outputs": [],
   "source": [
    "df_small_numeric.head().transpose()"
   ]
  },
  {
   "cell_type": "code",
   "execution_count": null,
   "id": "e56b283a",
   "metadata": {},
   "outputs": [],
   "source": [
    "df_small_numeric.info()"
   ]
  },
  {
   "cell_type": "code",
   "execution_count": 7,
   "id": "9b921571",
   "metadata": {},
   "outputs": [],
   "source": [
    "df_small_numeric['DATE'] = pd.to_datetime(df_small_numeric[['YEAR', 'MONTH', 'DAY']])"
   ]
  },
  {
   "cell_type": "code",
   "execution_count": 8,
   "id": "014720dd",
   "metadata": {},
   "outputs": [],
   "source": [
    "df_small_numeric = df_small_numeric.drop(['YEAR', 'MONTH', 'DAY'], axis=1)"
   ]
  },
  {
   "cell_type": "code",
   "execution_count": null,
   "id": "f3035519",
   "metadata": {},
   "outputs": [],
   "source": [
    "df_small_numeric.head().transpose()"
   ]
  },
  {
   "cell_type": "code",
   "execution_count": 9,
   "id": "b8387a40",
   "metadata": {},
   "outputs": [],
   "source": [
    "df_small_numeric.index = list(range(0,571390))"
   ]
  },
  {
   "cell_type": "markdown",
   "id": "723a55c9",
   "metadata": {},
   "source": [
    "A partir do tutorial disponível em [Predicting flight delays [Tutorial]](https://www.kaggle.com/fabiendaniel/predicting-flight-delays-tutorial/notebook), utilizam-se funções semelhantes às lá desenvolvidas para formatar a hora prevista de saída (SCHEDULED_TIME)."
   ]
  },
  {
   "cell_type": "code",
   "execution_count": 10,
   "id": "e7f5e111",
   "metadata": {},
   "outputs": [],
   "source": [
    "#_________________________________________________________\n",
    "# Function that convert the 'HHMM' string to datetime.time\n",
    "def formatar_hora(dado_orig):\n",
    "    if dado_orig == 2400: dado_orig = 0\n",
    "    dado_orig = \"{0:04d}\".format(int(dado_orig))\n",
    "    horario = datetime.time(int(dado_orig[0:2]), int(dado_orig[2:4]))\n",
    "    return horario\n",
    "#_____________________________________________________________________\n",
    "# Function that combines a date and time to produce a datetime.datetime\n",
    "def combinar_data_horario(x):\n",
    "    if pd.isnull(x[0]) or pd.isnull(x[1]):\n",
    "        return np.nan\n",
    "    else:\n",
    "        return datetime.datetime.combine(x[0],x[1])\n",
    "#_______________________________________________________________________________\n",
    "# Function that combine two columns of the dataframe to create a datetime format\n",
    "def criar_horario_voo(df, col):    \n",
    "    lista = []\n",
    "    for index, cols in df[['DATE', col]].iterrows():    \n",
    "        if pd.isnull(cols[1]):\n",
    "            lista.append(np.nan)\n",
    "        elif float(cols[1]) == 2400:\n",
    "            cols[0] += datetime.timedelta(days=1)\n",
    "            cols[1] = datetime.time(0,0)\n",
    "            lista.append(combinar_data_horario(cols))\n",
    "        else:\n",
    "            cols[1] = formatar_hora(cols[1])\n",
    "            lista.append(combinar_data_horario(cols))\n",
    "    return pd.Series(lista)"
   ]
  },
  {
   "cell_type": "code",
   "execution_count": 13,
   "id": "426887d1",
   "metadata": {},
   "outputs": [],
   "source": [
    "df_small_numeric['SCHEDULED_DEPARTURE'] = criar_horario_voo(df_small_numeric, 'SCHEDULED_DEPARTURE')"
   ]
  },
  {
   "cell_type": "code",
   "execution_count": 14,
   "id": "f5d7f7bf",
   "metadata": {},
   "outputs": [],
   "source": [
    "df_small_numeric['DEPARTURE_TIME'] = df_small_numeric['DEPARTURE_TIME'].apply(formatar_hora)\n",
    "df_small_numeric['SCHEDULED_ARRIVAL'] = df_small_numeric['SCHEDULED_ARRIVAL'].apply(formatar_hora)\n",
    "df_small_numeric['ARRIVAL_TIME'] = df_small_numeric['ARRIVAL_TIME'].apply(formatar_hora)"
   ]
  },
  {
   "cell_type": "code",
   "execution_count": 15,
   "id": "6da5ab28",
   "metadata": {},
   "outputs": [],
   "source": [
    "df_small_numeric.to_csv('flights.min.csv')"
   ]
  },
  {
   "cell_type": "code",
   "execution_count": 67,
   "id": "b8b0f2bc",
   "metadata": {},
   "outputs": [
    {
     "data": {
      "text/html": [
       "<div>\n",
       "<style scoped>\n",
       "    .dataframe tbody tr th:only-of-type {\n",
       "        vertical-align: middle;\n",
       "    }\n",
       "\n",
       "    .dataframe tbody tr th {\n",
       "        vertical-align: top;\n",
       "    }\n",
       "\n",
       "    .dataframe thead th {\n",
       "        text-align: right;\n",
       "    }\n",
       "</style>\n",
       "<table border=\"1\" class=\"dataframe\">\n",
       "  <thead>\n",
       "    <tr style=\"text-align: right;\">\n",
       "      <th></th>\n",
       "      <th>DAY_OF_WEEK</th>\n",
       "      <th>FLIGHT_NUMBER</th>\n",
       "      <th>SCHEDULED_DEPARTURE</th>\n",
       "      <th>DEPARTURE_TIME</th>\n",
       "      <th>DEPARTURE_DELAY</th>\n",
       "      <th>TAXI_OUT</th>\n",
       "      <th>WHEELS_OFF</th>\n",
       "      <th>SCHEDULED_TIME</th>\n",
       "      <th>ELAPSED_TIME</th>\n",
       "      <th>AIR_TIME</th>\n",
       "      <th>DISTANCE</th>\n",
       "      <th>WHEELS_ON</th>\n",
       "      <th>TAXI_IN</th>\n",
       "      <th>SCHEDULED_ARRIVAL</th>\n",
       "      <th>ARRIVAL_TIME</th>\n",
       "      <th>ARRIVAL_DELAY</th>\n",
       "      <th>DIVERTED</th>\n",
       "      <th>CANCELLED</th>\n",
       "      <th>DATE</th>\n",
       "    </tr>\n",
       "  </thead>\n",
       "  <tbody>\n",
       "    <tr>\n",
       "      <th>0</th>\n",
       "      <td>7</td>\n",
       "      <td>6209</td>\n",
       "      <td>2015-01-25 15:08:00</td>\n",
       "      <td>15:23:00</td>\n",
       "      <td>15.0</td>\n",
       "      <td>25.0</td>\n",
       "      <td>1548.0</td>\n",
       "      <td>121.0</td>\n",
       "      <td>123.0</td>\n",
       "      <td>84.0</td>\n",
       "      <td>588</td>\n",
       "      <td>1712.0</td>\n",
       "      <td>14.0</td>\n",
       "      <td>17:09:00</td>\n",
       "      <td>17:26:00</td>\n",
       "      <td>17.0</td>\n",
       "      <td>0</td>\n",
       "      <td>0</td>\n",
       "      <td>2015-01-25</td>\n",
       "    </tr>\n",
       "    <tr>\n",
       "      <th>1</th>\n",
       "      <td>2</td>\n",
       "      <td>3158</td>\n",
       "      <td>2015-01-27 11:30:00</td>\n",
       "      <td>11:23:00</td>\n",
       "      <td>-7.0</td>\n",
       "      <td>31.0</td>\n",
       "      <td>1154.0</td>\n",
       "      <td>93.0</td>\n",
       "      <td>120.0</td>\n",
       "      <td>76.0</td>\n",
       "      <td>438</td>\n",
       "      <td>1310.0</td>\n",
       "      <td>13.0</td>\n",
       "      <td>13:03:00</td>\n",
       "      <td>13:23:00</td>\n",
       "      <td>20.0</td>\n",
       "      <td>0</td>\n",
       "      <td>0</td>\n",
       "      <td>2015-01-27</td>\n",
       "    </tr>\n",
       "    <tr>\n",
       "      <th>2</th>\n",
       "      <td>3</td>\n",
       "      <td>505</td>\n",
       "      <td>2015-05-27 10:25:00</td>\n",
       "      <td>10:30:00</td>\n",
       "      <td>5.0</td>\n",
       "      <td>13.0</td>\n",
       "      <td>1043.0</td>\n",
       "      <td>180.0</td>\n",
       "      <td>164.0</td>\n",
       "      <td>145.0</td>\n",
       "      <td>1199</td>\n",
       "      <td>1508.0</td>\n",
       "      <td>6.0</td>\n",
       "      <td>15:25:00</td>\n",
       "      <td>15:14:00</td>\n",
       "      <td>-11.0</td>\n",
       "      <td>0</td>\n",
       "      <td>0</td>\n",
       "      <td>2015-05-27</td>\n",
       "    </tr>\n",
       "    <tr>\n",
       "      <th>3</th>\n",
       "      <td>7</td>\n",
       "      <td>5233</td>\n",
       "      <td>2015-05-10 20:00:00</td>\n",
       "      <td>23:52:00</td>\n",
       "      <td>232.0</td>\n",
       "      <td>13.0</td>\n",
       "      <td>5.0</td>\n",
       "      <td>200.0</td>\n",
       "      <td>161.0</td>\n",
       "      <td>144.0</td>\n",
       "      <td>1107</td>\n",
       "      <td>129.0</td>\n",
       "      <td>4.0</td>\n",
       "      <td>22:20:00</td>\n",
       "      <td>01:33:00</td>\n",
       "      <td>193.0</td>\n",
       "      <td>0</td>\n",
       "      <td>0</td>\n",
       "      <td>2015-05-10</td>\n",
       "    </tr>\n",
       "    <tr>\n",
       "      <th>4</th>\n",
       "      <td>3</td>\n",
       "      <td>1548</td>\n",
       "      <td>2015-03-04 23:59:00</td>\n",
       "      <td>00:01:00</td>\n",
       "      <td>2.0</td>\n",
       "      <td>15.0</td>\n",
       "      <td>16.0</td>\n",
       "      <td>195.0</td>\n",
       "      <td>180.0</td>\n",
       "      <td>157.0</td>\n",
       "      <td>1452</td>\n",
       "      <td>453.0</td>\n",
       "      <td>8.0</td>\n",
       "      <td>05:14:00</td>\n",
       "      <td>05:01:00</td>\n",
       "      <td>-13.0</td>\n",
       "      <td>0</td>\n",
       "      <td>0</td>\n",
       "      <td>2015-03-04</td>\n",
       "    </tr>\n",
       "  </tbody>\n",
       "</table>\n",
       "</div>"
      ],
      "text/plain": [
       "   DAY_OF_WEEK  FLIGHT_NUMBER SCHEDULED_DEPARTURE DEPARTURE_TIME  \\\n",
       "0            7           6209 2015-01-25 15:08:00       15:23:00   \n",
       "1            2           3158 2015-01-27 11:30:00       11:23:00   \n",
       "2            3            505 2015-05-27 10:25:00       10:30:00   \n",
       "3            7           5233 2015-05-10 20:00:00       23:52:00   \n",
       "4            3           1548 2015-03-04 23:59:00       00:01:00   \n",
       "\n",
       "   DEPARTURE_DELAY  TAXI_OUT  WHEELS_OFF  SCHEDULED_TIME  ELAPSED_TIME  \\\n",
       "0             15.0      25.0      1548.0           121.0         123.0   \n",
       "1             -7.0      31.0      1154.0            93.0         120.0   \n",
       "2              5.0      13.0      1043.0           180.0         164.0   \n",
       "3            232.0      13.0         5.0           200.0         161.0   \n",
       "4              2.0      15.0        16.0           195.0         180.0   \n",
       "\n",
       "   AIR_TIME  DISTANCE  WHEELS_ON  TAXI_IN SCHEDULED_ARRIVAL ARRIVAL_TIME  \\\n",
       "0      84.0       588     1712.0     14.0          17:09:00     17:26:00   \n",
       "1      76.0       438     1310.0     13.0          13:03:00     13:23:00   \n",
       "2     145.0      1199     1508.0      6.0          15:25:00     15:14:00   \n",
       "3     144.0      1107      129.0      4.0          22:20:00     01:33:00   \n",
       "4     157.0      1452      453.0      8.0          05:14:00     05:01:00   \n",
       "\n",
       "   ARRIVAL_DELAY  DIVERTED  CANCELLED       DATE  \n",
       "0           17.0         0          0 2015-01-25  \n",
       "1           20.0         0          0 2015-01-27  \n",
       "2          -11.0         0          0 2015-05-27  \n",
       "3          193.0         0          0 2015-05-10  \n",
       "4          -13.0         0          0 2015-03-04  "
      ]
     },
     "execution_count": 67,
     "metadata": {},
     "output_type": "execute_result"
    }
   ],
   "source": [
    "df_small_numeric.head()"
   ]
  },
  {
   "cell_type": "code",
   "execution_count": null,
   "id": "001deb3b",
   "metadata": {},
   "outputs": [],
   "source": []
  },
  {
   "cell_type": "code",
   "execution_count": 58,
   "id": "58463cba",
   "metadata": {},
   "outputs": [],
   "source": [
    "# plt.figure(figsize=(12,6))\n",
    "# plt.xticks(rotation=0)\n",
    "# sns.heatmap(df_small_numeric.isnull(), cbar=False, yticklabels=False, cmap='spring')"
   ]
  }
 ],
 "metadata": {
  "kernelspec": {
   "display_name": "Python 3 (ipykernel)",
   "language": "python",
   "name": "python3"
  },
  "language_info": {
   "codemirror_mode": {
    "name": "ipython",
    "version": 3
   },
   "file_extension": ".py",
   "mimetype": "text/x-python",
   "name": "python",
   "nbconvert_exporter": "python",
   "pygments_lexer": "ipython3",
   "version": "3.10.0"
  }
 },
 "nbformat": 4,
 "nbformat_minor": 5
}
